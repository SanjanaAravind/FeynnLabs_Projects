{
 "cells": [
  {
   "cell_type": "code",
   "execution_count": 1,
   "metadata": {},
   "outputs": [
    {
     "name": "stdout",
     "output_type": "stream",
     "text": [
      "Recommended Lesson Plans:\n",
      "                     title                                            content\n",
      "0  Introduction to Algebra  Learn the fundamentals of algebra including eq...\n",
      "1        Advanced Geometry   Explore complex geometrical shapes and theorems.\n",
      "2      Basics of Chemistry  Understand the basics of chemical reactions an...\n",
      "3  Introduction to Physics  Study the principles of physics including forc...\n"
     ]
    }
   ],
   "source": [
    "import numpy as np\n",
    "import pandas as pd\n",
    "from sklearn.feature_extraction.text import TfidfVectorizer\n",
    "from sklearn.metrics.pairwise import cosine_similarity\n",
    "\n",
    "# Sample lesson plans and user profile (mock data)\n",
    "lesson_plans = pd.DataFrame({\n",
    "    'id': [1, 2, 3, 4],\n",
    "    'title': ['Introduction to Algebra', 'Advanced Geometry', 'Basics of Chemistry', 'Introduction to Physics'],\n",
    "    'content': [\n",
    "        'Learn the fundamentals of algebra including equations and functions.',\n",
    "        'Explore complex geometrical shapes and theorems.',\n",
    "        'Understand the basics of chemical reactions and elements.',\n",
    "        'Study the principles of physics including force and motion.'\n",
    "    ]\n",
    "})\n",
    "\n",
    "user_profile = \"I am interested in basic science subjects and fundamental algebra.\"\n",
    "\n",
    "# Vectorize the lesson content and user profile\n",
    "vectorizer = TfidfVectorizer()\n",
    "lesson_vectors = vectorizer.fit_transform(lesson_plans['content'])\n",
    "user_vector = vectorizer.transform([user_profile])\n",
    "\n",
    "# Compute cosine similarity between user profile and lesson plans\n",
    "similarity_scores = cosine_similarity(user_vector, lesson_vectors).flatten()\n",
    "\n",
    "# Recommend the most similar lesson plans\n",
    "recommendations = lesson_plans.iloc[np.argsort(-similarity_scores)]\n",
    "print(\"Recommended Lesson Plans:\")\n",
    "print(recommendations[['title', 'content']])\n"
   ]
  },
  {
   "cell_type": "code",
   "execution_count": 2,
   "metadata": {},
   "outputs": [
    {
     "data": {
      "image/png": "[encoded data removed]",
      "text/plain": [
       "<Figure size 720x432 with 1 Axes>"
      ]
     },
     "metadata": {
      "needs_background": "light"
     },
     "output_type": "display_data"
    }
   ],
   "source": [
    "#Exploratory data Analysis(EDA)\n",
    "import matplotlib.pyplot as plt\n",
    "import seaborn as sns\n",
    "import pandas as pd\n",
    "\n",
    "# Sample data (mock data for demonstration)\n",
    "data = pd.DataFrame({\n",
    "    'Lesson Plan': ['Algebra', 'Geometry', 'Chemistry', 'Physics'],\n",
    "    'Interest Score': [80, 60, 75, 85]\n",
    "})\n",
    "\n",
    "# Basic bar plot\n",
    "plt.figure(figsize=(10, 6))\n",
    "sns.barplot(x='Lesson Plan', y='Interest Score', data=data)\n",
    "plt.title('Interest Score for Different Lesson Plans')\n",
    "plt.xlabel('Lesson Plan')\n",
    "plt.ylabel('Interest Score')\n",
    "plt.show()\n"
   ]
  },
  {
   "cell_type": "code",
   "execution_count": 4,
   "metadata": {},
   "outputs": [
    {
     "name": "stdout",
     "output_type": "stream",
     "text": [
      "Summary Statistics:\n",
      "       Content Length\n",
      "count        4.000000\n",
      "mean       172.500000\n",
      "std         22.173558\n",
      "min        150.000000\n",
      "25%        157.500000\n",
      "50%        170.000000\n",
      "75%        185.000000\n",
      "max        200.000000\n",
      "\n",
      "Missing Values:\n",
      "Lesson Plan       0\n",
      "Content Length    0\n",
      "dtype: int64\n"
     ]
    }
   ],
   "source": [
    "import pandas as pd\n",
    "\n",
    "# Sample data\n",
    "data = pd.DataFrame({\n",
    "    'Lesson Plan': ['Algebra', 'Geometry', 'Chemistry', 'Physics'],\n",
    "    'Content Length': [150, 200, 180, 160]\n",
    "})\n",
    "\n",
    "# Summary statistics\n",
    "print(\"Summary Statistics:\")\n",
    "print(data.describe())\n",
    "\n",
    "# Check for missing values\n",
    "print(\"\\nMissing Values:\")\n",
    "print(data.isnull().sum())\n"
   ]
  },
  {
   "cell_type": "code",
   "execution_count": 5,
   "metadata": {},
   "outputs": [
    {
     "name": "stdout",
     "output_type": "stream",
     "text": [
      "Model Accuracy: 0.50\n"
     ]
    }
   ],
   "source": [
    "from sklearn.feature_extraction.text import TfidfVectorizer\n",
    "from sklearn.metrics.pairwise import cosine_similarity\n",
    "from sklearn.model_selection import train_test_split\n",
    "from sklearn.linear_model import LogisticRegression\n",
    "import pandas as pd\n",
    "\n",
    "# Sample data\n",
    "d = pd.DataFrame({\n",
    "    'Text': ['Learn algebra basics', 'Advanced geometry concepts', 'Basics of chemistry', 'Introduction to physics'],\n",
    "    'Category': [0, 1, 0, 1]  # 0: Science, 1: Advanced\n",
    "})\n",
    "\n",
    "# Feature extraction\n",
    "vectorizer = TfidfVectorizer()\n",
    "X = vectorizer.fit_transform(d['Text'])\n",
    "y = d['Category']\n",
    "\n",
    "# Train-test split\n",
    "X_train, X_test, y_train, y_test = train_test_split(X, y, test_size=0.3, random_state=42, stratify=y)\n",
    "\n",
    "# Model training\n",
    "model = LogisticRegression()\n",
    "model.fit(X_train, y_train)\n",
    "\n",
    "# Model evaluation\n",
    "score = model.score(X_test, y_test)\n",
    "print(f\"Model Accuracy: {score:.2f}\")\n"
   ]
  },
  {
   "cell_type": "code",
   "execution_count": 6,
   "metadata": {},
   "outputs": [
    {
     "name": "stdout",
     "output_type": "stream",
     "text": [
      "Confusion Matrix:\n",
      "[[1 0]\n",
      " [1 0]]\n",
      "\n",
      "Classification Report:\n",
      "              precision    recall  f1-score   support\n",
      "\n",
      "           0       0.50      1.00      0.67         1\n",
      "           1       0.00      0.00      0.00         1\n",
      "\n",
      "    accuracy                           0.50         2\n",
      "   macro avg       0.25      0.50      0.33         2\n",
      "weighted avg       0.25      0.50      0.33         2\n",
      "\n"
     ]
    },
    {
     "name": "stderr",
     "output_type": "stream",
     "text": [
      "c:\\Users\\91897\\AppData\\Local\\Programs\\Python\\Python310\\lib\\site-packages\\sklearn\\metrics\\_classification.py:1517: UndefinedMetricWarning: Precision is ill-defined and being set to 0.0 in labels with no predicted samples. Use `zero_division` parameter to control this behavior.\n",
      "  _warn_prf(average, modifier, f\"{metric.capitalize()} is\", len(result))\n",
      "c:\\Users\\91897\\AppData\\Local\\Programs\\Python\\Python310\\lib\\site-packages\\sklearn\\metrics\\_classification.py:1517: UndefinedMetricWarning: Precision is ill-defined and being set to 0.0 in labels with no predicted samples. Use `zero_division` parameter to control this behavior.\n",
      "  _warn_prf(average, modifier, f\"{metric.capitalize()} is\", len(result))\n",
      "c:\\Users\\91897\\AppData\\Local\\Programs\\Python\\Python310\\lib\\site-packages\\sklearn\\metrics\\_classification.py:1517: UndefinedMetricWarning: Precision is ill-defined and being set to 0.0 in labels with no predicted samples. Use `zero_division` parameter to control this behavior.\n",
      "  _warn_prf(average, modifier, f\"{metric.capitalize()} is\", len(result))\n"
     ]
    }
   ],
   "source": [
    "from sklearn.metrics import confusion_matrix, classification_report\n",
    "\n",
    "# Model evaluation\n",
    "y_pred = model.predict(X_test)\n",
    "print(\"Confusion Matrix:\")\n",
    "print(confusion_matrix(y_test, y_pred))\n",
    "print(\"\\nClassification Report:\")\n",
    "print(classification_report(y_test, y_pred))\n"
   ]
  },
  {
   "cell_type": "code",
   "execution_count": 9,
   "metadata": {},
   "outputs": [
    {
     "data": {
      "image/png": "[encoded data removed]",
      "text/plain": [
       "<Figure size 432x288 with 1 Axes>"
      ]
     },
     "metadata": {
      "needs_background": "light"
     },
     "output_type": "display_data"
    }
   ],
   "source": [
    "from sklearn.metrics import roc_curve, auc\n",
    "import matplotlib.pyplot as plt\n",
    "\n",
    "# Compute ROC curve and ROC area\n",
    "fpr, tpr, _ = roc_curve(y_test, model.predict_proba(X_test)[:,1])\n",
    "roc_auc = auc(fpr, tpr)\n",
    "\n",
    "# Plot ROC curve\n",
    "plt.figure()\n",
    "plt.plot(fpr, tpr, color='darkorange', lw=2, label='ROC curve (area = %0.2f)' % roc_auc)\n",
    "plt.plot([0, 1], [0, 1], color='navy', lw=2, linestyle='--')\n",
    "plt.xlim([0.0, 1.0])\n",
    "plt.ylim([0.0, 1.05])\n",
    "plt.xlabel('False Positive Rate')\n",
    "plt.ylabel('True Positive Rate')\n",
    "plt.title('Receiver Operating Characteristic')\n",
    "plt.legend(loc=\"lower right\")\n",
    "plt.show()\n"
   ]
  }
 ],
 "metadata": {
  "kernelspec": {
   "display_name": "Python 3",
   "language": "python",
   "name": "python3"
  },
  "language_info": {
   "codemirror_mode": {
    "name": "ipython",
    "version": 3
   },
   "file_extension": ".py",
   "mimetype": "text/x-python",
   "name": "python",
   "nbconvert_exporter": "python",
   "pygments_lexer": "ipython3",
   "version": "3.10.6"
  }
 },
 "nbformat": 4,
 "nbformat_minor": 2
}
